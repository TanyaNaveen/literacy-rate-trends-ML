{
 "cells": [
  {
   "cell_type": "code",
   "execution_count": 1,
   "id": "45b9ec92",
   "metadata": {},
   "outputs": [],
   "source": [
    "import pandas as pd\n",
    "import numpy as np\n",
    "import matplotlib.pyplot as plt\n",
    "from sklearn import linear_model\n",
    "from mpl_toolkits.mplot3d import Axes3D\n",
    "import seaborn as sns\n",
    "\n",
    "%matplotlib inline \n",
    "\n",
    "file = '2015_16_Districtwise.csv'\n",
    "df = pd.read_csv(file)\n",
    "\n",
    "df_consolidated = pd.read_csv('Consolidated States (1).csv')\n"
   ]
  },
  {
   "cell_type": "code",
   "execution_count": 2,
   "id": "13059438",
   "metadata": {},
   "outputs": [],
   "source": [
    "df = df[df['OVERALL_LI'].notnull()]\n",
    "df['STATNAME'] = df['STATNAME'].apply(lambda x: x.lower())\n",
    "state_lit_series = df.groupby('STATNAME')['OVERALL_LI'].mean()"
   ]
  },
  {
   "cell_type": "code",
   "execution_count": 3,
   "id": "85d9b1a2",
   "metadata": {},
   "outputs": [
    {
     "data": {
      "text/html": [
       "<div>\n",
       "<style scoped>\n",
       "    .dataframe tbody tr th:only-of-type {\n",
       "        vertical-align: middle;\n",
       "    }\n",
       "\n",
       "    .dataframe tbody tr th {\n",
       "        vertical-align: top;\n",
       "    }\n",
       "\n",
       "    .dataframe thead th {\n",
       "        text-align: right;\n",
       "    }\n",
       "</style>\n",
       "<table border=\"1\" class=\"dataframe\">\n",
       "  <thead>\n",
       "    <tr style=\"text-align: right;\">\n",
       "      <th></th>\n",
       "      <th>state</th>\n",
       "      <th>State</th>\n",
       "      <th>Number of Crimes in 2019</th>\n",
       "      <th>Crime: Percent Share of State</th>\n",
       "      <th>Crimes per Lakh</th>\n",
       "      <th>Total Pop (Lakhs)</th>\n",
       "      <th>Percent Poverty</th>\n",
       "      <th>Per Capita Net State Domestic Product</th>\n",
       "      <th>Unemployment</th>\n",
       "      <th>Sex Ratio</th>\n",
       "      <th>Income</th>\n",
       "      <th>OVERALL_LI</th>\n",
       "    </tr>\n",
       "  </thead>\n",
       "  <tbody>\n",
       "    <tr>\n",
       "      <th>0</th>\n",
       "      <td>a &amp; n islands</td>\n",
       "      <td>A &amp; n islands</td>\n",
       "      <td>4034</td>\n",
       "      <td>0.1</td>\n",
       "      <td>1013.6</td>\n",
       "      <td>0.0</td>\n",
       "      <td>1.0</td>\n",
       "      <td>107418.0</td>\n",
       "      <td>54.0</td>\n",
       "      <td>876.0</td>\n",
       "      <td>89642.0</td>\n",
       "      <td>83.413333</td>\n",
       "    </tr>\n",
       "    <tr>\n",
       "      <th>1</th>\n",
       "      <td>andhra pradesh</td>\n",
       "      <td>Andhra pradesh</td>\n",
       "      <td>145751</td>\n",
       "      <td>2.8</td>\n",
       "      <td>278.6</td>\n",
       "      <td>78.8</td>\n",
       "      <td>9.2</td>\n",
       "      <td>81397.0</td>\n",
       "      <td>12.0</td>\n",
       "      <td>993.0</td>\n",
       "      <td>64773.0</td>\n",
       "      <td>67.373077</td>\n",
       "    </tr>\n",
       "    <tr>\n",
       "      <th>2</th>\n",
       "      <td>arunachal pradesh</td>\n",
       "      <td>Arunachal pradesh</td>\n",
       "      <td>2877</td>\n",
       "      <td>0.1</td>\n",
       "      <td>190.9</td>\n",
       "      <td>4.9</td>\n",
       "      <td>34.7</td>\n",
       "      <td>85468.0</td>\n",
       "      <td>17.0</td>\n",
       "      <td>938.0</td>\n",
       "      <td>71366.0</td>\n",
       "      <td>65.330000</td>\n",
       "    </tr>\n",
       "    <tr>\n",
       "      <th>3</th>\n",
       "      <td>assam</td>\n",
       "      <td>Assam</td>\n",
       "      <td>123783</td>\n",
       "      <td>2.6</td>\n",
       "      <td>385.8</td>\n",
       "      <td>101.3</td>\n",
       "      <td>32.0</td>\n",
       "      <td>44263.0</td>\n",
       "      <td>45.0</td>\n",
       "      <td>958.0</td>\n",
       "      <td>36320.0</td>\n",
       "      <td>73.204815</td>\n",
       "    </tr>\n",
       "    <tr>\n",
       "      <th>4</th>\n",
       "      <td>bihar</td>\n",
       "      <td>Bihar</td>\n",
       "      <td>269109</td>\n",
       "      <td>5.2</td>\n",
       "      <td>224.0</td>\n",
       "      <td>358.2</td>\n",
       "      <td>33.7</td>\n",
       "      <td>31199.0</td>\n",
       "      <td>32.0</td>\n",
       "      <td>918.0</td>\n",
       "      <td>22582.0</td>\n",
       "      <td>63.778947</td>\n",
       "    </tr>\n",
       "    <tr>\n",
       "      <th>5</th>\n",
       "      <td>chandigarh</td>\n",
       "      <td>Chandigarh</td>\n",
       "      <td>4518</td>\n",
       "      <td>0.1</td>\n",
       "      <td>381.6</td>\n",
       "      <td>2.4</td>\n",
       "      <td>21.8</td>\n",
       "      <td>156951.0</td>\n",
       "      <td>24.0</td>\n",
       "      <td>818.0</td>\n",
       "      <td>136883.0</td>\n",
       "      <td>86.430000</td>\n",
       "    </tr>\n",
       "    <tr>\n",
       "      <th>6</th>\n",
       "      <td>chhattisgarh</td>\n",
       "      <td>Chhattisgarh</td>\n",
       "      <td>96561</td>\n",
       "      <td>1.9</td>\n",
       "      <td>334.7</td>\n",
       "      <td>104.1</td>\n",
       "      <td>39.9</td>\n",
       "      <td>58547.0</td>\n",
       "      <td>8.0</td>\n",
       "      <td>991.0</td>\n",
       "      <td>48366.0</td>\n",
       "      <td>69.218125</td>\n",
       "    </tr>\n",
       "    <tr>\n",
       "      <th>7</th>\n",
       "      <td>dadra &amp; nagar haveli</td>\n",
       "      <td>Dadra &amp; Nagar Haveli</td>\n",
       "      <td>290</td>\n",
       "      <td>0.0</td>\n",
       "      <td>52.2</td>\n",
       "      <td>1.4</td>\n",
       "      <td>39.3</td>\n",
       "      <td>NaN</td>\n",
       "      <td>NaN</td>\n",
       "      <td>NaN</td>\n",
       "      <td>NaN</td>\n",
       "      <td>77.650000</td>\n",
       "    </tr>\n",
       "    <tr>\n",
       "      <th>8</th>\n",
       "      <td>daman &amp; diu</td>\n",
       "      <td>Daman &amp; Diu</td>\n",
       "      <td>370</td>\n",
       "      <td>0.0</td>\n",
       "      <td>87.5</td>\n",
       "      <td>17.0</td>\n",
       "      <td>9.9</td>\n",
       "      <td>NaN</td>\n",
       "      <td>NaN</td>\n",
       "      <td>NaN</td>\n",
       "      <td>NaN</td>\n",
       "      <td>85.710000</td>\n",
       "    </tr>\n",
       "    <tr>\n",
       "      <th>9</th>\n",
       "      <td>delhi</td>\n",
       "      <td>Delhi</td>\n",
       "      <td>316261</td>\n",
       "      <td>5.2</td>\n",
       "      <td>1586.1</td>\n",
       "      <td>0.3</td>\n",
       "      <td>9.9</td>\n",
       "      <td>212219.0</td>\n",
       "      <td>78.0</td>\n",
       "      <td>868.0</td>\n",
       "      <td>161446.0</td>\n",
       "      <td>86.734444</td>\n",
       "    </tr>\n",
       "    <tr>\n",
       "      <th>10</th>\n",
       "      <td>goa</td>\n",
       "      <td>Goa</td>\n",
       "      <td>3727</td>\n",
       "      <td>0.1</td>\n",
       "      <td>241.5</td>\n",
       "      <td>0.8</td>\n",
       "      <td>5.1</td>\n",
       "      <td>224138.0</td>\n",
       "      <td>51.0</td>\n",
       "      <td>973.0</td>\n",
       "      <td>211570.0</td>\n",
       "      <td>87.190000</td>\n",
       "    </tr>\n",
       "    <tr>\n",
       "      <th>11</th>\n",
       "      <td>gujarat</td>\n",
       "      <td>Gujarat</td>\n",
       "      <td>431066</td>\n",
       "      <td>8.4</td>\n",
       "      <td>631.6</td>\n",
       "      <td>102.2</td>\n",
       "      <td>16.6</td>\n",
       "      <td>106831.0</td>\n",
       "      <td>3.0</td>\n",
       "      <td>919.0</td>\n",
       "      <td>85979.0</td>\n",
       "      <td>77.627308</td>\n",
       "    </tr>\n",
       "    <tr>\n",
       "      <th>12</th>\n",
       "      <td>haryana</td>\n",
       "      <td>Haryana</td>\n",
       "      <td>166336</td>\n",
       "      <td>3.2</td>\n",
       "      <td>577.4</td>\n",
       "      <td>28.8</td>\n",
       "      <td>11.2</td>\n",
       "      <td>133427.0</td>\n",
       "      <td>24.0</td>\n",
       "      <td>879.0</td>\n",
       "      <td>106320.0</td>\n",
       "      <td>76.460952</td>\n",
       "    </tr>\n",
       "    <tr>\n",
       "      <th>13</th>\n",
       "      <td>himachal pradesh</td>\n",
       "      <td>Himachal Pradesh</td>\n",
       "      <td>19924</td>\n",
       "      <td>0.4</td>\n",
       "      <td>272.4</td>\n",
       "      <td>5.6</td>\n",
       "      <td>8.1</td>\n",
       "      <td>92300.0</td>\n",
       "      <td>10.0</td>\n",
       "      <td>972.0</td>\n",
       "      <td>75185.0</td>\n",
       "      <td>82.675000</td>\n",
       "    </tr>\n",
       "    <tr>\n",
       "      <th>14</th>\n",
       "      <td>jammu &amp; kashmir</td>\n",
       "      <td>Jammu &amp; Kashmir</td>\n",
       "      <td>25408</td>\n",
       "      <td>0.5</td>\n",
       "      <td>187.8</td>\n",
       "      <td>13.3</td>\n",
       "      <td>10.4</td>\n",
       "      <td>59279.0</td>\n",
       "      <td>25.0</td>\n",
       "      <td>889.0</td>\n",
       "      <td>46734.0</td>\n",
       "      <td>67.086364</td>\n",
       "    </tr>\n",
       "    <tr>\n",
       "      <th>15</th>\n",
       "      <td>jharkhand</td>\n",
       "      <td>Jharkhand</td>\n",
       "      <td>62206</td>\n",
       "      <td>1.2</td>\n",
       "      <td>165.5</td>\n",
       "      <td>124.3</td>\n",
       "      <td>37.0</td>\n",
       "      <td>46131.0</td>\n",
       "      <td>21.0</td>\n",
       "      <td>948.0</td>\n",
       "      <td>36554.0</td>\n",
       "      <td>65.885833</td>\n",
       "    </tr>\n",
       "    <tr>\n",
       "      <th>16</th>\n",
       "      <td>karnataka</td>\n",
       "      <td>Karnataka</td>\n",
       "      <td>163691</td>\n",
       "      <td>3.2</td>\n",
       "      <td>248.1</td>\n",
       "      <td>129.8</td>\n",
       "      <td>20.9</td>\n",
       "      <td>89545.0</td>\n",
       "      <td>9.0</td>\n",
       "      <td>973.0</td>\n",
       "      <td>68053.0</td>\n",
       "      <td>73.798333</td>\n",
       "    </tr>\n",
       "    <tr>\n",
       "      <th>17</th>\n",
       "      <td>kerala</td>\n",
       "      <td>Kerala</td>\n",
       "      <td>453083</td>\n",
       "      <td>8.8</td>\n",
       "      <td>1287.7</td>\n",
       "      <td>24.0</td>\n",
       "      <td>7.1</td>\n",
       "      <td>103820.0</td>\n",
       "      <td>68.0</td>\n",
       "      <td>1084.0</td>\n",
       "      <td>82753.0</td>\n",
       "      <td>93.648571</td>\n",
       "    </tr>\n",
       "    <tr>\n",
       "      <th>18</th>\n",
       "      <td>lakshadweep</td>\n",
       "      <td>Lakshadweep</td>\n",
       "      <td>182</td>\n",
       "      <td>0.0</td>\n",
       "      <td>267.6</td>\n",
       "      <td>0.0</td>\n",
       "      <td>2.8</td>\n",
       "      <td>NaN</td>\n",
       "      <td>NaN</td>\n",
       "      <td>NaN</td>\n",
       "      <td>NaN</td>\n",
       "      <td>92.280000</td>\n",
       "    </tr>\n",
       "    <tr>\n",
       "      <th>19</th>\n",
       "      <td>madhya pradesh</td>\n",
       "      <td>Madhya Pradesh</td>\n",
       "      <td>395619</td>\n",
       "      <td>7.7</td>\n",
       "      <td>478.9</td>\n",
       "      <td>234.1</td>\n",
       "      <td>31.7</td>\n",
       "      <td>51798.0</td>\n",
       "      <td>4.0</td>\n",
       "      <td>931.0</td>\n",
       "      <td>37180.0</td>\n",
       "      <td>68.978400</td>\n",
       "    </tr>\n",
       "    <tr>\n",
       "      <th>20</th>\n",
       "      <td>maharashtra</td>\n",
       "      <td>Maharashtra</td>\n",
       "      <td>509443</td>\n",
       "      <td>9.9</td>\n",
       "      <td>415.8</td>\n",
       "      <td>197.9</td>\n",
       "      <td>17.4</td>\n",
       "      <td>117091.0</td>\n",
       "      <td>7.0</td>\n",
       "      <td>929.0</td>\n",
       "      <td>93282.0</td>\n",
       "      <td>81.204857</td>\n",
       "    </tr>\n",
       "    <tr>\n",
       "      <th>21</th>\n",
       "      <td>manipur</td>\n",
       "      <td>Manipur</td>\n",
       "      <td>3661</td>\n",
       "      <td>0.1</td>\n",
       "      <td>117.7</td>\n",
       "      <td>10.2</td>\n",
       "      <td>36.9</td>\n",
       "      <td>41573.0</td>\n",
       "      <td>26.0</td>\n",
       "      <td>992.0</td>\n",
       "      <td>33695.0</td>\n",
       "      <td>78.325556</td>\n",
       "    </tr>\n",
       "    <tr>\n",
       "      <th>22</th>\n",
       "      <td>meghalaya</td>\n",
       "      <td>Meghalaya</td>\n",
       "      <td>3897</td>\n",
       "      <td>0.1</td>\n",
       "      <td>120.6</td>\n",
       "      <td>3.6</td>\n",
       "      <td>11.9</td>\n",
       "      <td>61548.0</td>\n",
       "      <td>4.0</td>\n",
       "      <td>989.0</td>\n",
       "      <td>50316.0</td>\n",
       "      <td>74.394286</td>\n",
       "    </tr>\n",
       "    <tr>\n",
       "      <th>23</th>\n",
       "      <td>mizoram</td>\n",
       "      <td>Mizoram</td>\n",
       "      <td>2880</td>\n",
       "      <td>0.1</td>\n",
       "      <td>241.0</td>\n",
       "      <td>2.3</td>\n",
       "      <td>20.4</td>\n",
       "      <td>76120.0</td>\n",
       "      <td>18.0</td>\n",
       "      <td>976.0</td>\n",
       "      <td>53624.0</td>\n",
       "      <td>89.436250</td>\n",
       "    </tr>\n",
       "    <tr>\n",
       "      <th>24</th>\n",
       "      <td>nagaland</td>\n",
       "      <td>Nagaland</td>\n",
       "      <td>1661</td>\n",
       "      <td>0.0</td>\n",
       "      <td>77.1</td>\n",
       "      <td>3.8</td>\n",
       "      <td>18.9</td>\n",
       "      <td>77529.0</td>\n",
       "      <td>151.0</td>\n",
       "      <td>931.0</td>\n",
       "      <td>63781.0</td>\n",
       "      <td>79.108182</td>\n",
       "    </tr>\n",
       "    <tr>\n",
       "      <th>25</th>\n",
       "      <td>odisha</td>\n",
       "      <td>Odisha</td>\n",
       "      <td>121525</td>\n",
       "      <td>2.4</td>\n",
       "      <td>277.9</td>\n",
       "      <td>138.5</td>\n",
       "      <td>32.6</td>\n",
       "      <td>52559.0</td>\n",
       "      <td>22.0</td>\n",
       "      <td>979.0</td>\n",
       "      <td>43463.0</td>\n",
       "      <td>70.844074</td>\n",
       "    </tr>\n",
       "    <tr>\n",
       "      <th>26</th>\n",
       "      <td>puducherry</td>\n",
       "      <td>Puducherry</td>\n",
       "      <td>4004</td>\n",
       "      <td>0.1</td>\n",
       "      <td>264.3</td>\n",
       "      <td>1.2</td>\n",
       "      <td>9.7</td>\n",
       "      <td>143677.0</td>\n",
       "      <td>8.0</td>\n",
       "      <td>1037.0</td>\n",
       "      <td>103149.0</td>\n",
       "      <td>88.142500</td>\n",
       "    </tr>\n",
       "    <tr>\n",
       "      <th>27</th>\n",
       "      <td>punjab</td>\n",
       "      <td>Punjab</td>\n",
       "      <td>72855</td>\n",
       "      <td>1.4</td>\n",
       "      <td>243.3</td>\n",
       "      <td>23.2</td>\n",
       "      <td>8.3</td>\n",
       "      <td>92350.0</td>\n",
       "      <td>19.0</td>\n",
       "      <td>895.0</td>\n",
       "      <td>76895.0</td>\n",
       "      <td>75.616000</td>\n",
       "    </tr>\n",
       "    <tr>\n",
       "      <th>28</th>\n",
       "      <td>rajasthan</td>\n",
       "      <td>Rajasthan</td>\n",
       "      <td>304394</td>\n",
       "      <td>5.9</td>\n",
       "      <td>392.3</td>\n",
       "      <td>102.9</td>\n",
       "      <td>14.7</td>\n",
       "      <td>65974.0</td>\n",
       "      <td>7.0</td>\n",
       "      <td>928.0</td>\n",
       "      <td>54637.0</td>\n",
       "      <td>65.507273</td>\n",
       "    </tr>\n",
       "    <tr>\n",
       "      <th>29</th>\n",
       "      <td>sikkim</td>\n",
       "      <td>Sikkim</td>\n",
       "      <td>821</td>\n",
       "      <td>0.0</td>\n",
       "      <td>123.5</td>\n",
       "      <td>0.5</td>\n",
       "      <td>8.2</td>\n",
       "      <td>176491.0</td>\n",
       "      <td>10.0</td>\n",
       "      <td>890.0</td>\n",
       "      <td>130127.0</td>\n",
       "      <td>80.702500</td>\n",
       "    </tr>\n",
       "    <tr>\n",
       "      <th>30</th>\n",
       "      <td>tamil nadu</td>\n",
       "      <td>Tamil Nadu</td>\n",
       "      <td>455094</td>\n",
       "      <td>8.8</td>\n",
       "      <td>600.3</td>\n",
       "      <td>82.6</td>\n",
       "      <td>11.3</td>\n",
       "      <td>112664.0</td>\n",
       "      <td>20.0</td>\n",
       "      <td>996.0</td>\n",
       "      <td>89050.0</td>\n",
       "      <td>79.848333</td>\n",
       "    </tr>\n",
       "    <tr>\n",
       "      <th>31</th>\n",
       "      <td>telangana</td>\n",
       "      <td>Telangana</td>\n",
       "      <td>131254</td>\n",
       "      <td>2.5</td>\n",
       "      <td>352.0</td>\n",
       "      <td>NaN</td>\n",
       "      <td>NaN</td>\n",
       "      <td>95361.0</td>\n",
       "      <td>NaN</td>\n",
       "      <td>NaN</td>\n",
       "      <td>NaN</td>\n",
       "      <td>66.294000</td>\n",
       "    </tr>\n",
       "    <tr>\n",
       "      <th>32</th>\n",
       "      <td>tripura</td>\n",
       "      <td>Tripura</td>\n",
       "      <td>5988</td>\n",
       "      <td>0.1</td>\n",
       "      <td>149.6</td>\n",
       "      <td>5.2</td>\n",
       "      <td>14.1</td>\n",
       "      <td>69705.0</td>\n",
       "      <td>105.0</td>\n",
       "      <td>960.0</td>\n",
       "      <td>50859.0</td>\n",
       "      <td>87.357500</td>\n",
       "    </tr>\n",
       "    <tr>\n",
       "      <th>33</th>\n",
       "      <td>uttar pradesh</td>\n",
       "      <td>Uttar Pradesh</td>\n",
       "      <td>628578</td>\n",
       "      <td>12.2</td>\n",
       "      <td>278.2</td>\n",
       "      <td>11.6</td>\n",
       "      <td>11.3</td>\n",
       "      <td>36250.0</td>\n",
       "      <td>9.0</td>\n",
       "      <td>912.0</td>\n",
       "      <td>30021.0</td>\n",
       "      <td>69.487183</td>\n",
       "    </tr>\n",
       "    <tr>\n",
       "      <th>34</th>\n",
       "      <td>uttarakhand</td>\n",
       "      <td>Uttarakhand</td>\n",
       "      <td>28268</td>\n",
       "      <td>0.5</td>\n",
       "      <td>252.8</td>\n",
       "      <td>598.2</td>\n",
       "      <td>29.4</td>\n",
       "      <td>103716.0</td>\n",
       "      <td>25.0</td>\n",
       "      <td>963.0</td>\n",
       "      <td>85372.0</td>\n",
       "      <td>80.292308</td>\n",
       "    </tr>\n",
       "    <tr>\n",
       "      <th>35</th>\n",
       "      <td>west bengal</td>\n",
       "      <td>West Bengal</td>\n",
       "      <td>*****</td>\n",
       "      <td>3.6</td>\n",
       "      <td>193.7</td>\n",
       "      <td>185.0</td>\n",
       "      <td>20.0</td>\n",
       "      <td>70059.0</td>\n",
       "      <td>27.0</td>\n",
       "      <td>950.0</td>\n",
       "      <td>53383.0</td>\n",
       "      <td>76.130500</td>\n",
       "    </tr>\n",
       "  </tbody>\n",
       "</table>\n",
       "</div>"
      ],
      "text/plain": [
       "                   state                 State Number of Crimes in 2019  \\\n",
       "0          a & n islands         A & n islands                     4034   \n",
       "1         andhra pradesh        Andhra pradesh                   145751   \n",
       "2      arunachal pradesh     Arunachal pradesh                     2877   \n",
       "3                  assam                 Assam                   123783   \n",
       "4                  bihar                 Bihar                   269109   \n",
       "5             chandigarh            Chandigarh                     4518   \n",
       "6           chhattisgarh          Chhattisgarh                    96561   \n",
       "7   dadra & nagar haveli  Dadra & Nagar Haveli                      290   \n",
       "8            daman & diu           Daman & Diu                      370   \n",
       "9                  delhi                 Delhi                   316261   \n",
       "10                   goa                   Goa                     3727   \n",
       "11               gujarat               Gujarat                   431066   \n",
       "12               haryana               Haryana                   166336   \n",
       "13      himachal pradesh      Himachal Pradesh                    19924   \n",
       "14       jammu & kashmir       Jammu & Kashmir                    25408   \n",
       "15             jharkhand             Jharkhand                    62206   \n",
       "16             karnataka             Karnataka                   163691   \n",
       "17                kerala                Kerala                   453083   \n",
       "18           lakshadweep           Lakshadweep                      182   \n",
       "19        madhya pradesh        Madhya Pradesh                   395619   \n",
       "20           maharashtra           Maharashtra                   509443   \n",
       "21               manipur               Manipur                     3661   \n",
       "22             meghalaya             Meghalaya                     3897   \n",
       "23               mizoram               Mizoram                     2880   \n",
       "24              nagaland              Nagaland                     1661   \n",
       "25                odisha                Odisha                   121525   \n",
       "26            puducherry            Puducherry                     4004   \n",
       "27                punjab                Punjab                    72855   \n",
       "28             rajasthan             Rajasthan                   304394   \n",
       "29                sikkim                Sikkim                      821   \n",
       "30            tamil nadu            Tamil Nadu                   455094   \n",
       "31             telangana             Telangana                   131254   \n",
       "32               tripura               Tripura                     5988   \n",
       "33         uttar pradesh         Uttar Pradesh                   628578   \n",
       "34           uttarakhand           Uttarakhand                    28268   \n",
       "35           west bengal           West Bengal                    *****   \n",
       "\n",
       "    Crime: Percent Share of State  Crimes per Lakh  Total Pop (Lakhs)  \\\n",
       "0                             0.1           1013.6                0.0   \n",
       "1                             2.8            278.6               78.8   \n",
       "2                             0.1            190.9                4.9   \n",
       "3                             2.6            385.8              101.3   \n",
       "4                             5.2            224.0              358.2   \n",
       "5                             0.1            381.6                2.4   \n",
       "6                             1.9            334.7              104.1   \n",
       "7                             0.0             52.2                1.4   \n",
       "8                             0.0             87.5               17.0   \n",
       "9                             5.2           1586.1                0.3   \n",
       "10                            0.1            241.5                0.8   \n",
       "11                            8.4            631.6              102.2   \n",
       "12                            3.2            577.4               28.8   \n",
       "13                            0.4            272.4                5.6   \n",
       "14                            0.5            187.8               13.3   \n",
       "15                            1.2            165.5              124.3   \n",
       "16                            3.2            248.1              129.8   \n",
       "17                            8.8           1287.7               24.0   \n",
       "18                            0.0            267.6                0.0   \n",
       "19                            7.7            478.9              234.1   \n",
       "20                            9.9            415.8              197.9   \n",
       "21                            0.1            117.7               10.2   \n",
       "22                            0.1            120.6                3.6   \n",
       "23                            0.1            241.0                2.3   \n",
       "24                            0.0             77.1                3.8   \n",
       "25                            2.4            277.9              138.5   \n",
       "26                            0.1            264.3                1.2   \n",
       "27                            1.4            243.3               23.2   \n",
       "28                            5.9            392.3              102.9   \n",
       "29                            0.0            123.5                0.5   \n",
       "30                            8.8            600.3               82.6   \n",
       "31                            2.5            352.0                NaN   \n",
       "32                            0.1            149.6                5.2   \n",
       "33                           12.2            278.2               11.6   \n",
       "34                            0.5            252.8              598.2   \n",
       "35                            3.6            193.7              185.0   \n",
       "\n",
       "    Percent Poverty  Per Capita Net State Domestic Product  Unemployment  \\\n",
       "0               1.0                               107418.0          54.0   \n",
       "1               9.2                                81397.0          12.0   \n",
       "2              34.7                                85468.0          17.0   \n",
       "3              32.0                                44263.0          45.0   \n",
       "4              33.7                                31199.0          32.0   \n",
       "5              21.8                               156951.0          24.0   \n",
       "6              39.9                                58547.0           8.0   \n",
       "7              39.3                                    NaN           NaN   \n",
       "8               9.9                                    NaN           NaN   \n",
       "9               9.9                               212219.0          78.0   \n",
       "10              5.1                               224138.0          51.0   \n",
       "11             16.6                               106831.0           3.0   \n",
       "12             11.2                               133427.0          24.0   \n",
       "13              8.1                                92300.0          10.0   \n",
       "14             10.4                                59279.0          25.0   \n",
       "15             37.0                                46131.0          21.0   \n",
       "16             20.9                                89545.0           9.0   \n",
       "17              7.1                               103820.0          68.0   \n",
       "18              2.8                                    NaN           NaN   \n",
       "19             31.7                                51798.0           4.0   \n",
       "20             17.4                               117091.0           7.0   \n",
       "21             36.9                                41573.0          26.0   \n",
       "22             11.9                                61548.0           4.0   \n",
       "23             20.4                                76120.0          18.0   \n",
       "24             18.9                                77529.0         151.0   \n",
       "25             32.6                                52559.0          22.0   \n",
       "26              9.7                               143677.0           8.0   \n",
       "27              8.3                                92350.0          19.0   \n",
       "28             14.7                                65974.0           7.0   \n",
       "29              8.2                               176491.0          10.0   \n",
       "30             11.3                               112664.0          20.0   \n",
       "31              NaN                                95361.0           NaN   \n",
       "32             14.1                                69705.0         105.0   \n",
       "33             11.3                                36250.0           9.0   \n",
       "34             29.4                               103716.0          25.0   \n",
       "35             20.0                                70059.0          27.0   \n",
       "\n",
       "    Sex Ratio    Income  OVERALL_LI  \n",
       "0       876.0   89642.0   83.413333  \n",
       "1       993.0   64773.0   67.373077  \n",
       "2       938.0   71366.0   65.330000  \n",
       "3       958.0   36320.0   73.204815  \n",
       "4       918.0   22582.0   63.778947  \n",
       "5       818.0  136883.0   86.430000  \n",
       "6       991.0   48366.0   69.218125  \n",
       "7         NaN       NaN   77.650000  \n",
       "8         NaN       NaN   85.710000  \n",
       "9       868.0  161446.0   86.734444  \n",
       "10      973.0  211570.0   87.190000  \n",
       "11      919.0   85979.0   77.627308  \n",
       "12      879.0  106320.0   76.460952  \n",
       "13      972.0   75185.0   82.675000  \n",
       "14      889.0   46734.0   67.086364  \n",
       "15      948.0   36554.0   65.885833  \n",
       "16      973.0   68053.0   73.798333  \n",
       "17     1084.0   82753.0   93.648571  \n",
       "18        NaN       NaN   92.280000  \n",
       "19      931.0   37180.0   68.978400  \n",
       "20      929.0   93282.0   81.204857  \n",
       "21      992.0   33695.0   78.325556  \n",
       "22      989.0   50316.0   74.394286  \n",
       "23      976.0   53624.0   89.436250  \n",
       "24      931.0   63781.0   79.108182  \n",
       "25      979.0   43463.0   70.844074  \n",
       "26     1037.0  103149.0   88.142500  \n",
       "27      895.0   76895.0   75.616000  \n",
       "28      928.0   54637.0   65.507273  \n",
       "29      890.0  130127.0   80.702500  \n",
       "30      996.0   89050.0   79.848333  \n",
       "31        NaN       NaN   66.294000  \n",
       "32      960.0   50859.0   87.357500  \n",
       "33      912.0   30021.0   69.487183  \n",
       "34      963.0   85372.0   80.292308  \n",
       "35      950.0   53383.0   76.130500  "
      ]
     },
     "metadata": {},
     "output_type": "display_data"
    }
   ],
   "source": [
    "df_state = df_consolidated.merge(state_lit_series, right_on = 'STATNAME', left_on = 'state', how = 'right' )\n",
    "display(df_state)\n"
   ]
  },
  {
   "cell_type": "code",
   "execution_count": 4,
   "id": "b1a4e203",
   "metadata": {},
   "outputs": [
    {
     "data": {
      "text/plain": [
       "<seaborn.axisgrid.FacetGrid at 0x233515a4130>"
      ]
     },
     "execution_count": 4,
     "metadata": {},
     "output_type": "execute_result"
    },
    {
     "data": {
      "image/png": "[encoded data removed]",
      "text/plain": [
       "<Figure size 360x360 with 1 Axes>"
      ]
     },
     "metadata": {
      "needs_background": "light"
     },
     "output_type": "display_data"
    }
   ],
   "source": [
    "sns.relplot(x = 'Crimes per Lakh', y = 'OVERALL_LI', data = df_state)"
   ]
  },
  {
   "cell_type": "code",
   "execution_count": 5,
   "id": "38299ede",
   "metadata": {},
   "outputs": [
    {
     "data": {
      "text/plain": [
       "<seaborn.axisgrid.FacetGrid at 0x23356cf3220>"
      ]
     },
     "execution_count": 5,
     "metadata": {},
     "output_type": "execute_result"
    },
    {
     "data": {
      "image/png": "[encoded data removed]",
      "text/plain": [
       "<Figure size 360x360 with 1 Axes>"
      ]
     },
     "metadata": {
      "needs_background": "light"
     },
     "output_type": "display_data"
    }
   ],
   "source": [
    "sns.relplot(x = 'Crime: Percent Share of State', y = 'OVERALL_LI', data = df_state)"
   ]
  },
  {
   "cell_type": "code",
   "execution_count": 6,
   "id": "1079cf3d",
   "metadata": {},
   "outputs": [
    {
     "data": {
      "text/plain": [
       "<seaborn.axisgrid.FacetGrid at 0x2335785d220>"
      ]
     },
     "execution_count": 6,
     "metadata": {},
     "output_type": "execute_result"
    },
    {
     "data": {
      "image/png": "[encoded data removed]",
      "text/plain": [
       "<Figure size 360x360 with 1 Axes>"
      ]
     },
     "metadata": {
      "needs_background": "light"
     },
     "output_type": "display_data"
    }
   ],
   "source": [
    "df_state['new'] = df_state['Crimes per Lakh']/df_state['Total Pop (Lakhs)']\n",
    "mask = df_state['new'] <5000\n",
    "df_state = df_state[mask]\n",
    "#display(df_state['new'])\n",
    "sns.relplot(x = 'new', y = 'OVERALL_LI', data = df_state)"
   ]
  },
  {
   "cell_type": "code",
   "execution_count": 7,
   "id": "71387350",
   "metadata": {},
   "outputs": [
    {
     "data": {
      "text/plain": [
       "<seaborn.axisgrid.FacetGrid at 0x23356cf38b0>"
      ]
     },
     "execution_count": 7,
     "metadata": {},
     "output_type": "execute_result"
    },
    {
     "data": {
      "image/png": "[encoded data removed]",
      "text/plain": [
       "<Figure size 360x360 with 1 Axes>"
      ]
     },
     "metadata": {
      "needs_background": "light"
     },
     "output_type": "display_data"
    }
   ],
   "source": [
    "sns.relplot(x = 'Percent Poverty', y = 'OVERALL_LI', data = df_state)"
   ]
  },
  {
   "cell_type": "code",
   "execution_count": 8,
   "id": "8164f92a",
   "metadata": {},
   "outputs": [
    {
     "data": {
      "text/plain": [
       "<seaborn.axisgrid.FacetGrid at 0x23356cc7820>"
      ]
     },
     "execution_count": 8,
     "metadata": {},
     "output_type": "execute_result"
    },
    {
     "data": {
      "image/png": "[encoded data removed]",
      "text/plain": [
       "<Figure size 360x360 with 1 Axes>"
      ]
     },
     "metadata": {
      "needs_background": "light"
     },
     "output_type": "display_data"
    }
   ],
   "source": [
    "sns.relplot(x = 'Per Capita Net State Domestic Product', y = 'OVERALL_LI', data = df_state)"
   ]
  },
  {
   "cell_type": "code",
   "execution_count": 9,
   "id": "734fd0bd",
   "metadata": {},
   "outputs": [
    {
     "data": {
      "text/plain": [
       "<seaborn.axisgrid.FacetGrid at 0x23356cc7970>"
      ]
     },
     "execution_count": 9,
     "metadata": {},
     "output_type": "execute_result"
    },
    {
     "data": {
      "image/png": "[encoded data removed]",
      "text/plain": [
       "<Figure size 360x360 with 1 Axes>"
      ]
     },
     "metadata": {
      "needs_background": "light"
     },
     "output_type": "display_data"
    }
   ],
   "source": [
    "sns.relplot(x = 'Unemployment', y = 'OVERALL_LI', data = df_state)"
   ]
  },
  {
   "cell_type": "code",
   "execution_count": 10,
   "id": "fdb4e8ad",
   "metadata": {},
   "outputs": [
    {
     "data": {
      "text/plain": [
       "<seaborn.axisgrid.FacetGrid at 0x233578ae220>"
      ]
     },
     "execution_count": 10,
     "metadata": {},
     "output_type": "execute_result"
    },
    {
     "data": {
      "image/png": "[encoded data removed]",
      "text/plain": [
       "<Figure size 360x360 with 1 Axes>"
      ]
     },
     "metadata": {
      "needs_background": "light"
     },
     "output_type": "display_data"
    }
   ],
   "source": [
    "sns.relplot(x = 'Income', y = 'OVERALL_LI', data = df_state)"
   ]
  },
  {
   "cell_type": "code",
   "execution_count": 11,
   "id": "c804c1a9",
   "metadata": {},
   "outputs": [
    {
     "data": {
      "text/plain": [
       "<seaborn.axisgrid.FacetGrid at 0x2335797e1c0>"
      ]
     },
     "execution_count": 11,
     "metadata": {},
     "output_type": "execute_result"
    },
    {
     "data": {
      "image/png": "[encoded data removed]",
      "text/plain": [
       "<Figure size 360x360 with 1 Axes>"
      ]
     },
     "metadata": {
      "needs_background": "light"
     },
     "output_type": "display_data"
    }
   ],
   "source": [
    "sns.relplot(x = 'Sex Ratio', y = 'OVERALL_LI', data = df_state)"
   ]
  },
  {
   "cell_type": "code",
   "execution_count": 19,
   "id": "f2c3cfda",
   "metadata": {},
   "outputs": [
    {
     "data": {
      "text/plain": [
       "array([ 9.2, 34.7, 32. , 33.7, 21.8, 39.9,  5.1, 16.6, 11.2,  8.1, 10.4,\n",
       "       37. , 20.9,  7.1, 31.7, 17.4, 36.9, 11.9, 20.4, 18.9, 32.6,  9.7,\n",
       "        8.3, 14.7,  8.2, 11.3, 14.1, 11.3, 29.4, 20. ])"
      ]
     },
     "execution_count": 19,
     "metadata": {},
     "output_type": "execute_result"
    }
   ],
   "source": [
    "df_state = df_state[df_state['Percent Poverty'].notnull()]\n",
    "df_state = df_state[df_state['Income'].notnull()]\n",
    "df_state = df_state[df_state['Per Capita Net State Domestic Product'].notnull()]\n",
    "df_state = df_state[df_state['Unemployment'].notnull()]\n",
    "df_state = df_state[df_state['Sex Ratio'].notnull()]\n",
    "\n",
    "\n",
    "df_state['Percent Poverty'].values"
   ]
  },
  {
   "cell_type": "code",
   "execution_count": 13,
   "id": "9afcc8fb",
   "metadata": {},
   "outputs": [
    {
     "data": {
      "text/plain": [
       "array([ 64773.,  71366.,  36320.,  22582., 136883.,  48366., 211570.,\n",
       "        85979., 106320.,  75185.,  46734.,  36554.,  68053.,  82753.,\n",
       "        37180.,  93282.,  33695.,  50316.,  53624.,  63781.,  43463.,\n",
       "       103149.,  76895.,  54637., 130127.,  89050.,  50859.,  30021.,\n",
       "        85372.,  53383.])"
      ]
     },
     "execution_count": 13,
     "metadata": {},
     "output_type": "execute_result"
    }
   ],
   "source": [
    "df_state['Income'].values"
   ]
  },
  {
   "cell_type": "code",
   "execution_count": 14,
   "id": "1c6413f6",
   "metadata": {},
   "outputs": [
    {
     "data": {
      "text/plain": [
       "array([ 81397.,  85468.,  44263.,  31199., 156951.,  58547., 224138.,\n",
       "       106831., 133427.,  92300.,  59279.,  46131.,  89545., 103820.,\n",
       "        51798., 117091.,  41573.,  61548.,  76120.,  77529.,  52559.,\n",
       "       143677.,  92350.,  65974., 176491., 112664.,  69705.,  36250.,\n",
       "       103716.,  70059.])"
      ]
     },
     "execution_count": 14,
     "metadata": {},
     "output_type": "execute_result"
    }
   ],
   "source": [
    "\n",
    "df_state['Per Capita Net State Domestic Product'].values"
   ]
  },
  {
   "cell_type": "code",
   "execution_count": 15,
   "id": "5d537629",
   "metadata": {},
   "outputs": [
    {
     "data": {
      "text/plain": [
       "array([ 12.,  17.,  45.,  32.,  24.,   8.,  51.,   3.,  24.,  10.,  25.,\n",
       "        21.,   9.,  68.,   4.,   7.,  26.,   4.,  18., 151.,  22.,   8.,\n",
       "        19.,   7.,  10.,  20., 105.,   9.,  25.,  27.])"
      ]
     },
     "execution_count": 15,
     "metadata": {},
     "output_type": "execute_result"
    }
   ],
   "source": [
    "\n",
    "df_state['Unemployment'].values"
   ]
  },
  {
   "cell_type": "code",
   "execution_count": 16,
   "id": "ddc1e8b6",
   "metadata": {},
   "outputs": [
    {
     "data": {
      "text/plain": [
       "array([ 993.,  938.,  958.,  918.,  818.,  991.,  973.,  919.,  879.,\n",
       "        972.,  889.,  948.,  973., 1084.,  931.,  929.,  992.,  989.,\n",
       "        976.,  931.,  979., 1037.,  895.,  928.,  890.,  996.,  960.,\n",
       "        912.,  963.,  950.])"
      ]
     },
     "execution_count": 16,
     "metadata": {},
     "output_type": "execute_result"
    }
   ],
   "source": [
    "\n",
    "df_state['Sex Ratio'].values"
   ]
  },
  {
   "cell_type": "code",
   "execution_count": 17,
   "id": "feeb17ed",
   "metadata": {},
   "outputs": [
    {
     "data": {
      "text/plain": [
       "array([67.37307692, 65.33      , 73.20481481, 63.77894737, 86.43      ,\n",
       "       69.218125  , 87.19      , 77.62730769, 76.46095238, 82.675     ,\n",
       "       67.08636364, 65.88583333, 73.79833333, 93.64857143, 68.9784    ,\n",
       "       81.20485714, 78.32555556, 74.39428571, 89.43625   , 79.10818182,\n",
       "       70.84407407, 88.1425    , 75.616     , 65.50727273, 80.7025    ,\n",
       "       79.84833333, 87.3575    , 69.4871831 , 80.29230769, 76.1305    ])"
      ]
     },
     "execution_count": 17,
     "metadata": {},
     "output_type": "execute_result"
    }
   ],
   "source": [
    "df_state['OVERALL_LI'].values"
   ]
  },
  {
   "cell_type": "code",
   "execution_count": null,
   "id": "e7d8e970",
   "metadata": {},
   "outputs": [],
   "source": []
  }
 ],
 "metadata": {
  "kernelspec": {
   "display_name": "Python 3 (ipykernel)",
   "language": "python",
   "name": "python3"
  },
  "language_info": {
   "codemirror_mode": {
    "name": "ipython",
    "version": 3
   },
   "file_extension": ".py",
   "mimetype": "text/x-python",
   "name": "python",
   "nbconvert_exporter": "python",
   "pygments_lexer": "ipython3",
   "version": "3.9.7"
  }
 },
 "nbformat": 4,
 "nbformat_minor": 5
}
